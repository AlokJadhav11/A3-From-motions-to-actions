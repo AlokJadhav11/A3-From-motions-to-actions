{
 "cells": [
  {
   "cell_type": "code",
   "execution_count": 3,
   "metadata": {},
   "outputs": [
    {
     "name": "stdout",
     "output_type": "stream",
     "text": [
      "Collecting termcolor\n",
      "  Downloading termcolor-1.1.0.tar.gz (3.9 kB)\n",
      "Building wheels for collected packages: termcolor\n",
      "  Building wheel for termcolor (setup.py): started\n",
      "  Building wheel for termcolor (setup.py): finished with status 'done'\n",
      "  Created wheel for termcolor: filename=termcolor-1.1.0-py3-none-any.whl size=4835 sha256=274af8941db3dd27d91c75546257d4611ac11df0b6ba8b82b96467958a4f2192\n",
      "  Stored in directory: c:\\users\\alokj\\appdata\\local\\pip\\cache\\wheels\\a0\\16\\9c\\5473df82468f958445479c59e784896fa24f4a5fc024b0f501\n",
      "Successfully built termcolor\n",
      "Installing collected packages: termcolor\n",
      "Successfully installed termcolor-1.1.0\n",
      "Note: you may need to restart the kernel to use updated packages.\n"
     ]
    }
   ],
   "source": [
    "pip install termcolor"
   ]
  },
  {
   "cell_type": "code",
   "execution_count": 50,
   "metadata": {},
   "outputs": [],
   "source": [
    "import numpy as np\n",
    "import matplotlib.pyplot as plt\n",
    "import pandas as pd\n",
    "from sklearn import preprocessing\n",
    "from termcolor import colored\n",
    "from sklearn.metrics import classification_report\n",
    "import matplotlib.pyplot as plt"
   ]
  },
  {
   "cell_type": "code",
   "execution_count": null,
   "metadata": {},
   "outputs": [],
   "source": []
  },
  {
   "cell_type": "code",
   "execution_count": 51,
   "metadata": {},
   "outputs": [],
   "source": [
    "import os\n",
    "import glob"
   ]
  },
  {
   "cell_type": "code",
   "execution_count": 52,
   "metadata": {},
   "outputs": [
    {
     "data": {
      "text/plain": [
       "['.\\\\browsing.csv',\n",
       " '.\\\\climbing.csv',\n",
       " '.\\\\running.csv',\n",
       " '.\\\\Travelling.csv',\n",
       " '.\\\\walking.csv']"
      ]
     },
     "execution_count": 52,
     "metadata": {},
     "output_type": "execute_result"
    }
   ],
   "source": [
    "glob.glob('./*.csv')"
   ]
  },
  {
   "cell_type": "code",
   "execution_count": 53,
   "metadata": {},
   "outputs": [],
   "source": [
    "output_label = {\n",
    " './Travelling.csv' : 'travel',\n",
    " './climbing.csv' : 'climb',\n",
    " './walking.csv' : 'walk',\n",
    " './running.csv' : 'run',\n",
    " './browsing.csv' : 'browse'\n",
    "}"
   ]
  },
  {
   "cell_type": "code",
   "execution_count": null,
   "metadata": {},
   "outputs": [],
   "source": []
  },
  {
   "cell_type": "code",
   "execution_count": 54,
   "metadata": {},
   "outputs": [
    {
     "name": "stdout",
     "output_type": "stream",
     "text": [
      "./Travelling.csv\n",
      "==================================================\n",
      "./climbing.csv\n",
      "==================================================\n",
      "./walking.csv\n",
      "==================================================\n",
      "./running.csv\n",
      "==================================================\n",
      "./browsing.csv\n",
      "==================================================\n"
     ]
    }
   ],
   "source": [
    "dataset_train = {\n",
    "    'time' : [], \n",
    "    'gFx' : [], \n",
    "    'gFy' : [], \n",
    "    'gFz' : [], \n",
    "    'TgF' : [],\n",
    "    'class' : []\n",
    "}\n",
    "\n",
    "dataset_test = {\n",
    "    'time' : [], \n",
    "    'gFx' : [], \n",
    "    'gFy' : [], \n",
    "    'gFz' : [], \n",
    "    'TgF' : [], \n",
    "    'class' : []\n",
    "}\n",
    "\n",
    "for name in output_label.keys():\n",
    "    df = pd.read_csv(name)\n",
    "    \n",
    "    flag = 0\n",
    "    if name != './walking.csv' :\n",
    "        for i in range(0,301, 10):\n",
    "            flag+=1\n",
    "            for key in dataset_train.keys():\n",
    "                if key != 'class' :\n",
    "                    if flag <= 25 :\n",
    "                        dataset_train[key].append(df[df.time.between(i, i+10.0)][key].mean())\n",
    "                    else:\n",
    "                        dataset_test[key].append(df[df.time.between(i, i+10.0)][key].mean())\n",
    "                else:\n",
    "                    if flag <= 25 :\n",
    "                        dataset_train[key].append(output_label[name])\n",
    "                    else:\n",
    "                        dataset_test[key].append(output_label[name])\n",
    "    else:\n",
    "        for i in range(0,70, 10):\n",
    "            flag+=1\n",
    "            for key in dataset_train.keys():\n",
    "                if key != 'class' :\n",
    "                    if flag <= 4 :\n",
    "                        dataset_train[key].append(df[df.time.between(i, i+10.0)][key].mean())\n",
    "                    else:\n",
    "                        dataset_test[key].append(df[df.time.between(i, i+10.0)][key].mean())\n",
    "                else:\n",
    "                    if flag <= 4 :\n",
    "                        dataset_train[key].append(output_label[name])\n",
    "                    else:\n",
    "                        dataset_test[key].append(output_label[name])\n",
    "            \n",
    "    print(name)\n",
    "    print('='*50)"
   ]
  },
  {
   "cell_type": "markdown",
   "metadata": {},
   "source": [
    "## Visualization of Data"
   ]
  },
  {
   "cell_type": "code",
   "execution_count": 55,
   "metadata": {},
   "outputs": [],
   "source": [
    "data_train = pd.DataFrame(dataset_train)\n",
    "data_test = pd.DataFrame(dataset_test)\n",
    "\n",
    "data = pd.concat([data_train, data_test])\n",
    "\n"
   ]
  },
  {
   "cell_type": "code",
   "execution_count": 81,
   "metadata": {},
   "outputs": [],
   "source": [
    "activities = [\n",
    "    'travel',\n",
    "    'climb',\n",
    "     #'walk'\n",
    "    'run',\n",
    "    'browse'\n",
    "    ]"
   ]
  },
  {
   "cell_type": "code",
   "execution_count": 83,
   "metadata": {},
   "outputs": [
    {
     "data": {
      "image/png": "[encoded data removed]",
      "text/plain": [
       "<Figure size 432x288 with 1 Axes>"
      ]
     },
     "metadata": {
      "needs_background": "light"
     },
     "output_type": "display_data"
    },
    {
     "name": "stdout",
     "output_type": "stream",
     "text": [
      "\u001b[32m==================================================\u001b[0m\n"
     ]
    },
    {
     "data": {
      "image/png": "[encoded data removed]",
      "text/plain": [
       "<Figure size 432x288 with 1 Axes>"
      ]
     },
     "metadata": {
      "needs_background": "light"
     },
     "output_type": "display_data"
    },
    {
     "name": "stdout",
     "output_type": "stream",
     "text": [
      "\u001b[32m==================================================\u001b[0m\n"
     ]
    },
    {
     "data": {
      "image/png": "[encoded data removed]",
      "text/plain": [
       "<Figure size 432x288 with 1 Axes>"
      ]
     },
     "metadata": {
      "needs_background": "light"
     },
     "output_type": "display_data"
    },
    {
     "name": "stdout",
     "output_type": "stream",
     "text": [
      "\u001b[32m==================================================\u001b[0m\n"
     ]
    },
    {
     "data": {
      "image/png": "[encoded data removed]",
      "text/plain": [
       "<Figure size 432x288 with 1 Axes>"
      ]
     },
     "metadata": {
      "needs_background": "light"
     },
     "output_type": "display_data"
    },
    {
     "name": "stdout",
     "output_type": "stream",
     "text": [
      "\u001b[32m==================================================\u001b[0m\n"
     ]
    }
   ],
   "source": [
    "    \n",
    "for feature in ['gFx','gFy', 'gFz','TgF' ]: \n",
    "    for act in activities:\n",
    "        plt.plot(data[data['class'] == act][\"time\"], data[data['class'] == act][feature], label = act)\n",
    "        plt.legend()\n",
    "        \n",
    "    plt.title(\"Plot for {}\".format(feature))\n",
    "    plt.xlabel('Time')\n",
    "    plt.ylabel('Activities')\n",
    "    plt.show()\n",
    "    print(colored(\"=\"*50, 'green'))"
   ]
  },
  {
   "cell_type": "code",
   "execution_count": null,
   "metadata": {},
   "outputs": [],
   "source": []
  },
  {
   "cell_type": "code",
   "execution_count": 84,
   "metadata": {},
   "outputs": [],
   "source": [
    "activities = [\n",
    "    #'travel',\n",
    "    #'climb',\n",
    "    'walk'\n",
    "    #'run',\n",
    "    #'browse'\n",
    "    ]"
   ]
  },
  {
   "cell_type": "code",
   "execution_count": 89,
   "metadata": {},
   "outputs": [
    {
     "data": {
      "image/png": "[encoded data removed]",
      "text/plain": [
       "<Figure size 432x288 with 1 Axes>"
      ]
     },
     "metadata": {
      "needs_background": "light"
     },
     "output_type": "display_data"
    },
    {
     "name": "stdout",
     "output_type": "stream",
     "text": [
      "\u001b[32m==================================================\u001b[0m\n"
     ]
    },
    {
     "data": {
      "image/png": "[encoded data removed]",
      "text/plain": [
       "<Figure size 432x288 with 1 Axes>"
      ]
     },
     "metadata": {
      "needs_background": "light"
     },
     "output_type": "display_data"
    },
    {
     "name": "stdout",
     "output_type": "stream",
     "text": [
      "\u001b[32m==================================================\u001b[0m\n"
     ]
    },
    {
     "data": {
      "image/png": "[encoded data removed]",
      "text/plain": [
       "<Figure size 432x288 with 1 Axes>"
      ]
     },
     "metadata": {
      "needs_background": "light"
     },
     "output_type": "display_data"
    },
    {
     "name": "stdout",
     "output_type": "stream",
     "text": [
      "\u001b[32m==================================================\u001b[0m\n"
     ]
    },
    {
     "data": {
      "image/png": "[encoded data removed]",
      "text/plain": [
       "<Figure size 432x288 with 1 Axes>"
      ]
     },
     "metadata": {
      "needs_background": "light"
     },
     "output_type": "display_data"
    },
    {
     "name": "stdout",
     "output_type": "stream",
     "text": [
      "\u001b[32m==================================================\u001b[0m\n"
     ]
    }
   ],
   "source": [
    "\n",
    "\n",
    "for feature in ['gFx','gFy', 'gFz','TgF' ]: \n",
    "    \n",
    "    for act in activities:\n",
    "        plt.plot(data[data['class'] == act][\"time\"], data[data['class'] == act][feature], label = act)\n",
    "        plt.legend()\n",
    "        \n",
    "    plt.title(\"Plot for {}\".format(feature))\n",
    "    plt.xlabel('Time')\n",
    "    plt.ylabel('Activities')\n",
    "    plt.show()\n",
    "    print(colored(\"=\"*50, 'green'))"
   ]
  },
  {
   "cell_type": "code",
   "execution_count": null,
   "metadata": {},
   "outputs": [],
   "source": []
  },
  {
   "cell_type": "markdown",
   "metadata": {},
   "source": [
    "### Feature Selection\n",
    "\n",
    "#### features experimented with:\n",
    "\n",
    "Mean\n",
    "\n",
    "Standard Deviation\n",
    "\n",
    "Skewness\n",
    "\n",
    "#### specific transformation:\n",
    "\n",
    "for travelling and runnig fourier transform is needed (to transform G-force) and the mean is sufficient for the remaining activities."
   ]
  },
  {
   "cell_type": "code",
   "execution_count": null,
   "metadata": {},
   "outputs": [],
   "source": []
  },
  {
   "cell_type": "markdown",
   "metadata": {},
   "source": [
    "## Dataset Preparation for ML models"
   ]
  },
  {
   "cell_type": "code",
   "execution_count": 58,
   "metadata": {},
   "outputs": [],
   "source": [
    "df_train = pd.DataFrame(dataset_train)[['gFx','gFy','gFz','TgF','class']]"
   ]
  },
  {
   "cell_type": "code",
   "execution_count": 59,
   "metadata": {},
   "outputs": [],
   "source": [
    "df_test = pd.DataFrame(dataset_test)[['gFx','gFy','gFz','TgF','class']]"
   ]
  },
  {
   "cell_type": "code",
   "execution_count": 100,
   "metadata": {},
   "outputs": [],
   "source": [
    "# scaler to normalize the input values\n",
    "\n",
    "min_max_scaler = preprocessing.MinMaxScaler()\n",
    "X_train = min_max_scaler.fit_transform(df_train[['gFx','gFy','gFz','TgF']])\n",
    "\n",
    "# FFT-Transform:\n",
    "from scipy import fftpack\n",
    "X_fft = fftpack.fft(df_train[['gFx','gFy','gFz','TgF']]) \n",
    "\n",
    "\n",
    "#label encoder \n",
    "label_encoder = preprocessing.LabelEncoder()\n",
    "label_encoder = label_encoder.fit(df_train['class'].values)\n",
    "y_train = label_encoder.transform(df_train['class'].values)\n",
    "\n",
    "\n",
    "## get the test set\n",
    "\n",
    "X_test = min_max_scaler.transform(df_test[['gFx','gFy','gFz','TgF']])\n",
    "y_test = label_encoder.transform(df_test['class'].values)"
   ]
  },
  {
   "cell_type": "markdown",
   "metadata": {},
   "source": [
    "### Decision Tree "
   ]
  },
  {
   "cell_type": "code",
   "execution_count": 101,
   "metadata": {},
   "outputs": [],
   "source": [
    "from sklearn import tree"
   ]
  },
  {
   "cell_type": "code",
   "execution_count": 102,
   "metadata": {},
   "outputs": [],
   "source": [
    "clf = tree.DecisionTreeClassifier()\n",
    "clf = clf.fit(X_train, y_train)\n"
   ]
  },
  {
   "cell_type": "code",
   "execution_count": 103,
   "metadata": {},
   "outputs": [
    {
     "data": {
      "text/plain": [
       "[Text(251.10000000000002, 205.35999999999999, 'X[2] <= 0.98\\ngini = 0.767\\nsamples = 104\\nvalue = [25, 25, 25, 25, 4]'),\n",
       " Text(209.25, 181.2, 'X[2] <= 0.828\\ngini = 0.697\\nsamples = 79\\nvalue = [0, 25, 25, 25, 4]'),\n",
       " Text(167.4, 157.04, 'X[3] <= 0.454\\ngini = 0.566\\nsamples = 54\\nvalue = [0, 25, 25, 0, 4]'),\n",
       " Text(125.55000000000001, 132.88, 'X[0] <= 0.906\\ngini = 0.365\\nsamples = 32\\nvalue = [0, 25, 3, 0, 4]'),\n",
       " Text(83.7, 108.72, 'X[2] <= 0.341\\ngini = 0.191\\nsamples = 28\\nvalue = [0, 25, 3, 0, 0]'),\n",
       " Text(41.85, 84.56, 'gini = 0.0\\nsamples = 22\\nvalue = [0, 22, 0, 0, 0]'),\n",
       " Text(125.55000000000001, 84.56, 'X[3] <= 0.124\\ngini = 0.5\\nsamples = 6\\nvalue = [0, 3, 3, 0, 0]'),\n",
       " Text(83.7, 60.400000000000006, 'gini = 0.0\\nsamples = 2\\nvalue = [0, 2, 0, 0, 0]'),\n",
       " Text(167.4, 60.400000000000006, 'X[1] <= 0.366\\ngini = 0.375\\nsamples = 4\\nvalue = [0, 1, 3, 0, 0]'),\n",
       " Text(125.55000000000001, 36.24000000000001, 'X[1] <= 0.262\\ngini = 0.5\\nsamples = 2\\nvalue = [0, 1, 1, 0, 0]'),\n",
       " Text(83.7, 12.079999999999984, 'gini = 0.0\\nsamples = 1\\nvalue = [0, 0, 1, 0, 0]'),\n",
       " Text(167.4, 12.079999999999984, 'gini = 0.0\\nsamples = 1\\nvalue = [0, 1, 0, 0, 0]'),\n",
       " Text(209.25, 36.24000000000001, 'gini = 0.0\\nsamples = 2\\nvalue = [0, 0, 2, 0, 0]'),\n",
       " Text(167.4, 108.72, 'gini = 0.0\\nsamples = 4\\nvalue = [0, 0, 0, 0, 4]'),\n",
       " Text(209.25, 132.88, 'gini = 0.0\\nsamples = 22\\nvalue = [0, 0, 22, 0, 0]'),\n",
       " Text(251.10000000000002, 157.04, 'gini = 0.0\\nsamples = 25\\nvalue = [0, 0, 0, 25, 0]'),\n",
       " Text(292.95, 181.2, 'gini = 0.0\\nsamples = 25\\nvalue = [25, 0, 0, 0, 0]')]"
      ]
     },
     "execution_count": 103,
     "metadata": {},
     "output_type": "execute_result"
    },
    {
     "data": {
      "image/png": "[encoded data removed]",
      "text/plain": [
       "<Figure size 432x288 with 1 Axes>"
      ]
     },
     "metadata": {
      "needs_background": "light"
     },
     "output_type": "display_data"
    }
   ],
   "source": [
    "tree.plot_tree(clf) "
   ]
  },
  {
   "cell_type": "code",
   "execution_count": 104,
   "metadata": {},
   "outputs": [
    {
     "data": {
      "text/plain": [
       "array([3, 3, 3, 3, 3, 3, 1, 1, 1, 1, 1, 3, 4, 4, 4, 2, 2, 2, 2, 2, 2, 0,\n",
       "       0, 0, 0, 0, 0])"
      ]
     },
     "execution_count": 104,
     "metadata": {},
     "output_type": "execute_result"
    }
   ],
   "source": [
    "dt_predicted = clf.predict(X_test)\n",
    "dt_predicted"
   ]
  },
  {
   "cell_type": "code",
   "execution_count": 105,
   "metadata": {},
   "outputs": [
    {
     "data": {
      "text/plain": [
       "array([3, 3, 3, 3, 3, 3, 1, 1, 1, 1, 1, 1, 4, 4, 4, 2, 2, 2, 2, 2, 2, 0,\n",
       "       0, 0, 0, 0, 0])"
      ]
     },
     "execution_count": 105,
     "metadata": {},
     "output_type": "execute_result"
    }
   ],
   "source": [
    "y_test"
   ]
  },
  {
   "cell_type": "markdown",
   "metadata": {},
   "source": [
    "### SVM Classifier"
   ]
  },
  {
   "cell_type": "code",
   "execution_count": 66,
   "metadata": {},
   "outputs": [],
   "source": [
    "from sklearn import svm"
   ]
  },
  {
   "cell_type": "code",
   "execution_count": 67,
   "metadata": {},
   "outputs": [],
   "source": [
    "clf_svm = svm.SVC()"
   ]
  },
  {
   "cell_type": "code",
   "execution_count": 68,
   "metadata": {},
   "outputs": [
    {
     "data": {
      "text/plain": [
       "SVC()"
      ]
     },
     "execution_count": 68,
     "metadata": {},
     "output_type": "execute_result"
    }
   ],
   "source": [
    "clf_svm.fit(X_train, y_train)"
   ]
  },
  {
   "cell_type": "code",
   "execution_count": 69,
   "metadata": {},
   "outputs": [],
   "source": [
    "svm_predicted = clf_svm.predict(X_test)"
   ]
  },
  {
   "cell_type": "markdown",
   "metadata": {},
   "source": [
    "### Logistic Regression"
   ]
  },
  {
   "cell_type": "code",
   "execution_count": 70,
   "metadata": {},
   "outputs": [],
   "source": [
    "from sklearn.linear_model import LogisticRegression"
   ]
  },
  {
   "cell_type": "code",
   "execution_count": 71,
   "metadata": {},
   "outputs": [
    {
     "data": {
      "text/plain": [
       "LogisticRegression(random_state=0)"
      ]
     },
     "execution_count": 71,
     "metadata": {},
     "output_type": "execute_result"
    }
   ],
   "source": [
    "clf = LogisticRegression(random_state=0)\n",
    "clf.fit(X_train, y_train)"
   ]
  },
  {
   "cell_type": "code",
   "execution_count": 72,
   "metadata": {},
   "outputs": [],
   "source": [
    "lr_predicted = clf.predict(X_test)"
   ]
  },
  {
   "cell_type": "markdown",
   "metadata": {},
   "source": [
    "### KNN "
   ]
  },
  {
   "cell_type": "code",
   "execution_count": 90,
   "metadata": {},
   "outputs": [],
   "source": [
    "from sklearn.neighbors import KNeighborsClassifier"
   ]
  },
  {
   "cell_type": "code",
   "execution_count": 91,
   "metadata": {},
   "outputs": [],
   "source": [
    "neigh = KNeighborsClassifier(n_neighbors=5)"
   ]
  },
  {
   "cell_type": "code",
   "execution_count": 92,
   "metadata": {},
   "outputs": [
    {
     "data": {
      "text/plain": [
       "KNeighborsClassifier()"
      ]
     },
     "execution_count": 92,
     "metadata": {},
     "output_type": "execute_result"
    }
   ],
   "source": [
    "neigh.fit(X_train, y_train)"
   ]
  },
  {
   "cell_type": "code",
   "execution_count": 93,
   "metadata": {},
   "outputs": [],
   "source": [
    "knn_predicted = neigh.predict(X_test)"
   ]
  },
  {
   "cell_type": "markdown",
   "metadata": {},
   "source": [
    "### Performance Analysis"
   ]
  },
  {
   "cell_type": "code",
   "execution_count": 94,
   "metadata": {},
   "outputs": [],
   "source": [
    "matrix = pd.DataFrame({\n",
    "    \"Decision_Tree\" : label_encoder.inverse_transform(dt_predicted),\n",
    "    \"SVM\" : label_encoder.inverse_transform(svm_predicted),\n",
    "    \"Logistic_Regression\" : label_encoder.inverse_transform(lr_predicted),\n",
    "    \"KNN\" : label_encoder.inverse_transform(knn_predicted),\n",
    "    \"y_test\" : label_encoder.inverse_transform(y_test)\n",
    "})"
   ]
  },
  {
   "cell_type": "code",
   "execution_count": 95,
   "metadata": {},
   "outputs": [
    {
     "data": {
      "text/html": [
       "<div>\n",
       "<style scoped>\n",
       "    .dataframe tbody tr th:only-of-type {\n",
       "        vertical-align: middle;\n",
       "    }\n",
       "\n",
       "    .dataframe tbody tr th {\n",
       "        vertical-align: top;\n",
       "    }\n",
       "\n",
       "    .dataframe thead th {\n",
       "        text-align: right;\n",
       "    }\n",
       "</style>\n",
       "<table border=\"1\" class=\"dataframe\">\n",
       "  <thead>\n",
       "    <tr style=\"text-align: right;\">\n",
       "      <th></th>\n",
       "      <th>Decision_Tree</th>\n",
       "      <th>SVM</th>\n",
       "      <th>Logistic_Regression</th>\n",
       "      <th>KNN</th>\n",
       "      <th>y_test</th>\n",
       "    </tr>\n",
       "  </thead>\n",
       "  <tbody>\n",
       "    <tr>\n",
       "      <th>0</th>\n",
       "      <td>travel</td>\n",
       "      <td>travel</td>\n",
       "      <td>travel</td>\n",
       "      <td>travel</td>\n",
       "      <td>travel</td>\n",
       "    </tr>\n",
       "    <tr>\n",
       "      <th>1</th>\n",
       "      <td>travel</td>\n",
       "      <td>travel</td>\n",
       "      <td>travel</td>\n",
       "      <td>travel</td>\n",
       "      <td>travel</td>\n",
       "    </tr>\n",
       "    <tr>\n",
       "      <th>2</th>\n",
       "      <td>travel</td>\n",
       "      <td>travel</td>\n",
       "      <td>travel</td>\n",
       "      <td>travel</td>\n",
       "      <td>travel</td>\n",
       "    </tr>\n",
       "    <tr>\n",
       "      <th>3</th>\n",
       "      <td>travel</td>\n",
       "      <td>travel</td>\n",
       "      <td>travel</td>\n",
       "      <td>travel</td>\n",
       "      <td>travel</td>\n",
       "    </tr>\n",
       "    <tr>\n",
       "      <th>4</th>\n",
       "      <td>travel</td>\n",
       "      <td>travel</td>\n",
       "      <td>travel</td>\n",
       "      <td>travel</td>\n",
       "      <td>travel</td>\n",
       "    </tr>\n",
       "  </tbody>\n",
       "</table>\n",
       "</div>"
      ],
      "text/plain": [
       "  Decision_Tree     SVM Logistic_Regression     KNN  y_test\n",
       "0        travel  travel              travel  travel  travel\n",
       "1        travel  travel              travel  travel  travel\n",
       "2        travel  travel              travel  travel  travel\n",
       "3        travel  travel              travel  travel  travel\n",
       "4        travel  travel              travel  travel  travel"
      ]
     },
     "execution_count": 95,
     "metadata": {},
     "output_type": "execute_result"
    }
   ],
   "source": [
    "matrix.head()"
   ]
  },
  {
   "cell_type": "markdown",
   "metadata": {},
   "source": [
    "### As we can see below: \"Decision Tree\" and \"SVM\" performs better than that of KNN and Logistic Regression for the give classification problem. "
   ]
  },
  {
   "cell_type": "code",
   "execution_count": 96,
   "metadata": {},
   "outputs": [
    {
     "data": {
      "text/html": [
       "<div>\n",
       "<style scoped>\n",
       "    .dataframe tbody tr th:only-of-type {\n",
       "        vertical-align: middle;\n",
       "    }\n",
       "\n",
       "    .dataframe tbody tr th {\n",
       "        vertical-align: top;\n",
       "    }\n",
       "\n",
       "    .dataframe thead th {\n",
       "        text-align: right;\n",
       "    }\n",
       "</style>\n",
       "<table border=\"1\" class=\"dataframe\">\n",
       "  <thead>\n",
       "    <tr style=\"text-align: right;\">\n",
       "      <th></th>\n",
       "      <th>Decision_Tree</th>\n",
       "      <th>SVM</th>\n",
       "      <th>Logistic_Regression</th>\n",
       "      <th>KNN</th>\n",
       "      <th>y_test</th>\n",
       "    </tr>\n",
       "  </thead>\n",
       "  <tbody>\n",
       "    <tr>\n",
       "      <th>0</th>\n",
       "      <td>travel</td>\n",
       "      <td>travel</td>\n",
       "      <td>travel</td>\n",
       "      <td>travel</td>\n",
       "      <td>travel</td>\n",
       "    </tr>\n",
       "    <tr>\n",
       "      <th>1</th>\n",
       "      <td>travel</td>\n",
       "      <td>travel</td>\n",
       "      <td>travel</td>\n",
       "      <td>travel</td>\n",
       "      <td>travel</td>\n",
       "    </tr>\n",
       "    <tr>\n",
       "      <th>2</th>\n",
       "      <td>travel</td>\n",
       "      <td>travel</td>\n",
       "      <td>travel</td>\n",
       "      <td>travel</td>\n",
       "      <td>travel</td>\n",
       "    </tr>\n",
       "    <tr>\n",
       "      <th>3</th>\n",
       "      <td>travel</td>\n",
       "      <td>travel</td>\n",
       "      <td>travel</td>\n",
       "      <td>travel</td>\n",
       "      <td>travel</td>\n",
       "    </tr>\n",
       "    <tr>\n",
       "      <th>4</th>\n",
       "      <td>travel</td>\n",
       "      <td>travel</td>\n",
       "      <td>travel</td>\n",
       "      <td>travel</td>\n",
       "      <td>travel</td>\n",
       "    </tr>\n",
       "    <tr>\n",
       "      <th>5</th>\n",
       "      <td>travel</td>\n",
       "      <td>travel</td>\n",
       "      <td>travel</td>\n",
       "      <td>travel</td>\n",
       "      <td>travel</td>\n",
       "    </tr>\n",
       "    <tr>\n",
       "      <th>6</th>\n",
       "      <td>climb</td>\n",
       "      <td>climb</td>\n",
       "      <td>climb</td>\n",
       "      <td>climb</td>\n",
       "      <td>climb</td>\n",
       "    </tr>\n",
       "    <tr>\n",
       "      <th>7</th>\n",
       "      <td>climb</td>\n",
       "      <td>climb</td>\n",
       "      <td>climb</td>\n",
       "      <td>climb</td>\n",
       "      <td>climb</td>\n",
       "    </tr>\n",
       "    <tr>\n",
       "      <th>8</th>\n",
       "      <td>climb</td>\n",
       "      <td>climb</td>\n",
       "      <td>climb</td>\n",
       "      <td>climb</td>\n",
       "      <td>climb</td>\n",
       "    </tr>\n",
       "    <tr>\n",
       "      <th>9</th>\n",
       "      <td>climb</td>\n",
       "      <td>climb</td>\n",
       "      <td>climb</td>\n",
       "      <td>climb</td>\n",
       "      <td>climb</td>\n",
       "    </tr>\n",
       "    <tr>\n",
       "      <th>10</th>\n",
       "      <td>climb</td>\n",
       "      <td>climb</td>\n",
       "      <td>climb</td>\n",
       "      <td>climb</td>\n",
       "      <td>climb</td>\n",
       "    </tr>\n",
       "    <tr>\n",
       "      <th>11</th>\n",
       "      <td>travel</td>\n",
       "      <td>travel</td>\n",
       "      <td>travel</td>\n",
       "      <td>travel</td>\n",
       "      <td>climb</td>\n",
       "    </tr>\n",
       "    <tr>\n",
       "      <th>12</th>\n",
       "      <td>walk</td>\n",
       "      <td>walk</td>\n",
       "      <td>run</td>\n",
       "      <td>walk</td>\n",
       "      <td>walk</td>\n",
       "    </tr>\n",
       "    <tr>\n",
       "      <th>13</th>\n",
       "      <td>walk</td>\n",
       "      <td>walk</td>\n",
       "      <td>run</td>\n",
       "      <td>walk</td>\n",
       "      <td>walk</td>\n",
       "    </tr>\n",
       "    <tr>\n",
       "      <th>14</th>\n",
       "      <td>walk</td>\n",
       "      <td>walk</td>\n",
       "      <td>run</td>\n",
       "      <td>walk</td>\n",
       "      <td>walk</td>\n",
       "    </tr>\n",
       "    <tr>\n",
       "      <th>15</th>\n",
       "      <td>run</td>\n",
       "      <td>run</td>\n",
       "      <td>run</td>\n",
       "      <td>run</td>\n",
       "      <td>run</td>\n",
       "    </tr>\n",
       "    <tr>\n",
       "      <th>16</th>\n",
       "      <td>run</td>\n",
       "      <td>run</td>\n",
       "      <td>run</td>\n",
       "      <td>run</td>\n",
       "      <td>run</td>\n",
       "    </tr>\n",
       "    <tr>\n",
       "      <th>17</th>\n",
       "      <td>run</td>\n",
       "      <td>run</td>\n",
       "      <td>travel</td>\n",
       "      <td>run</td>\n",
       "      <td>run</td>\n",
       "    </tr>\n",
       "    <tr>\n",
       "      <th>18</th>\n",
       "      <td>run</td>\n",
       "      <td>climb</td>\n",
       "      <td>travel</td>\n",
       "      <td>climb</td>\n",
       "      <td>run</td>\n",
       "    </tr>\n",
       "    <tr>\n",
       "      <th>19</th>\n",
       "      <td>run</td>\n",
       "      <td>run</td>\n",
       "      <td>run</td>\n",
       "      <td>run</td>\n",
       "      <td>run</td>\n",
       "    </tr>\n",
       "    <tr>\n",
       "      <th>20</th>\n",
       "      <td>run</td>\n",
       "      <td>run</td>\n",
       "      <td>travel</td>\n",
       "      <td>run</td>\n",
       "      <td>run</td>\n",
       "    </tr>\n",
       "    <tr>\n",
       "      <th>21</th>\n",
       "      <td>browse</td>\n",
       "      <td>browse</td>\n",
       "      <td>browse</td>\n",
       "      <td>browse</td>\n",
       "      <td>browse</td>\n",
       "    </tr>\n",
       "    <tr>\n",
       "      <th>22</th>\n",
       "      <td>browse</td>\n",
       "      <td>browse</td>\n",
       "      <td>browse</td>\n",
       "      <td>browse</td>\n",
       "      <td>browse</td>\n",
       "    </tr>\n",
       "    <tr>\n",
       "      <th>23</th>\n",
       "      <td>browse</td>\n",
       "      <td>browse</td>\n",
       "      <td>browse</td>\n",
       "      <td>browse</td>\n",
       "      <td>browse</td>\n",
       "    </tr>\n",
       "    <tr>\n",
       "      <th>24</th>\n",
       "      <td>browse</td>\n",
       "      <td>browse</td>\n",
       "      <td>browse</td>\n",
       "      <td>browse</td>\n",
       "      <td>browse</td>\n",
       "    </tr>\n",
       "    <tr>\n",
       "      <th>25</th>\n",
       "      <td>browse</td>\n",
       "      <td>browse</td>\n",
       "      <td>browse</td>\n",
       "      <td>browse</td>\n",
       "      <td>browse</td>\n",
       "    </tr>\n",
       "    <tr>\n",
       "      <th>26</th>\n",
       "      <td>browse</td>\n",
       "      <td>browse</td>\n",
       "      <td>browse</td>\n",
       "      <td>browse</td>\n",
       "      <td>browse</td>\n",
       "    </tr>\n",
       "  </tbody>\n",
       "</table>\n",
       "</div>"
      ],
      "text/plain": [
       "   Decision_Tree     SVM Logistic_Regression     KNN  y_test\n",
       "0         travel  travel              travel  travel  travel\n",
       "1         travel  travel              travel  travel  travel\n",
       "2         travel  travel              travel  travel  travel\n",
       "3         travel  travel              travel  travel  travel\n",
       "4         travel  travel              travel  travel  travel\n",
       "5         travel  travel              travel  travel  travel\n",
       "6          climb   climb               climb   climb   climb\n",
       "7          climb   climb               climb   climb   climb\n",
       "8          climb   climb               climb   climb   climb\n",
       "9          climb   climb               climb   climb   climb\n",
       "10         climb   climb               climb   climb   climb\n",
       "11        travel  travel              travel  travel   climb\n",
       "12          walk    walk                 run    walk    walk\n",
       "13          walk    walk                 run    walk    walk\n",
       "14          walk    walk                 run    walk    walk\n",
       "15           run     run                 run     run     run\n",
       "16           run     run                 run     run     run\n",
       "17           run     run              travel     run     run\n",
       "18           run   climb              travel   climb     run\n",
       "19           run     run                 run     run     run\n",
       "20           run     run              travel     run     run\n",
       "21        browse  browse              browse  browse  browse\n",
       "22        browse  browse              browse  browse  browse\n",
       "23        browse  browse              browse  browse  browse\n",
       "24        browse  browse              browse  browse  browse\n",
       "25        browse  browse              browse  browse  browse\n",
       "26        browse  browse              browse  browse  browse"
      ]
     },
     "execution_count": 96,
     "metadata": {},
     "output_type": "execute_result"
    }
   ],
   "source": [
    "matrix"
   ]
  },
  {
   "cell_type": "code",
   "execution_count": 97,
   "metadata": {},
   "outputs": [
    {
     "name": "stdout",
     "output_type": "stream",
     "text": [
      "\u001b[35mFor Model : Decision_Tree , Classification Report is : \u001b[0m\n",
      "              precision    recall  f1-score   support\n",
      "\n",
      "      browse       1.00      1.00      1.00         6\n",
      "       climb       1.00      0.83      0.91         6\n",
      "         run       1.00      1.00      1.00         6\n",
      "      travel       0.86      1.00      0.92         6\n",
      "        walk       1.00      1.00      1.00         3\n",
      "\n",
      "    accuracy                           0.96        27\n",
      "   macro avg       0.97      0.97      0.97        27\n",
      "weighted avg       0.97      0.96      0.96        27\n",
      "\n",
      "==================================================\n",
      "\u001b[35mFor Model : SVM , Classification Report is : \u001b[0m\n",
      "              precision    recall  f1-score   support\n",
      "\n",
      "      browse       1.00      1.00      1.00         6\n",
      "       climb       0.83      0.83      0.83         6\n",
      "         run       1.00      0.83      0.91         6\n",
      "      travel       0.86      1.00      0.92         6\n",
      "        walk       1.00      1.00      1.00         3\n",
      "\n",
      "    accuracy                           0.93        27\n",
      "   macro avg       0.94      0.93      0.93        27\n",
      "weighted avg       0.93      0.93      0.93        27\n",
      "\n",
      "==================================================\n",
      "\u001b[35mFor Model : Logistic_Regression , Classification Report is : \u001b[0m\n",
      "              precision    recall  f1-score   support\n",
      "\n",
      "      browse       1.00      1.00      1.00         6\n",
      "       climb       1.00      0.83      0.91         6\n",
      "         run       0.50      0.50      0.50         6\n",
      "      travel       0.60      1.00      0.75         6\n",
      "        walk       0.00      0.00      0.00         3\n",
      "\n",
      "    accuracy                           0.74        27\n",
      "   macro avg       0.62      0.67      0.63        27\n",
      "weighted avg       0.69      0.74      0.70        27\n",
      "\n",
      "==================================================\n",
      "\u001b[35mFor Model : KNN , Classification Report is : \u001b[0m\n",
      "              precision    recall  f1-score   support\n",
      "\n",
      "      browse       1.00      1.00      1.00         6\n",
      "       climb       0.83      0.83      0.83         6\n",
      "         run       1.00      0.83      0.91         6\n",
      "      travel       0.86      1.00      0.92         6\n",
      "        walk       1.00      1.00      1.00         3\n",
      "\n",
      "    accuracy                           0.93        27\n",
      "   macro avg       0.94      0.93      0.93        27\n",
      "weighted avg       0.93      0.93      0.93        27\n",
      "\n",
      "==================================================\n"
     ]
    },
    {
     "name": "stderr",
     "output_type": "stream",
     "text": [
      "C:\\ProgramData\\Anaconda3\\lib\\site-packages\\sklearn\\metrics\\_classification.py:1221: UndefinedMetricWarning: Precision and F-score are ill-defined and being set to 0.0 in labels with no predicted samples. Use `zero_division` parameter to control this behavior.\n",
      "  _warn_prf(average, modifier, msg_start, len(result))\n"
     ]
    }
   ],
   "source": [
    "for model in [\"Decision_Tree\",\"SVM\",\"Logistic_Regression\",\"KNN\"] :\n",
    "    print(colored(\"For Model : {} , Classification Report is : \".format(model),'magenta'))\n",
    "    print(classification_report(matrix[\"y_test\"].values, matrix[model].values))\n",
    "    print('='*50)"
   ]
  },
  {
   "cell_type": "markdown",
   "metadata": {},
   "source": [
    "## Analysis of Algorithms"
   ]
  },
  {
   "cell_type": "raw",
   "metadata": {},
   "source": [
    "mean is best suited feature among [mean, std, skewness] as per the classifiction report which includes precision,recall and f1_measure.\n",
    "\n",
    "\"\"\"\n",
    "\"\"\""
   ]
  },
  {
   "cell_type": "code",
   "execution_count": null,
   "metadata": {},
   "outputs": [],
   "source": []
  }
 ],
 "metadata": {
  "kernelspec": {
   "display_name": "Python 3",
   "language": "python",
   "name": "python3"
  },
  "language_info": {
   "codemirror_mode": {
    "name": "ipython",
    "version": 3
   },
   "file_extension": ".py",
   "mimetype": "text/x-python",
   "name": "python",
   "nbconvert_exporter": "python",
   "pygments_lexer": "ipython3",
   "version": "3.8.3"
  }
 },
 "nbformat": 4,
 "nbformat_minor": 4
}
